{
 "cells": [
  {
   "cell_type": "code",
   "execution_count": 1,
   "metadata": {},
   "outputs": [],
   "source": [
    "from imutils import paths\n",
    "import argparse\n",
    "import time\n",
    "import sys\n",
    "import cv2\n",
    "import os\n",
    "import imagehash\n",
    "from PIL import Image"
   ]
  },
  {
   "cell_type": "markdown",
   "metadata": {},
   "source": [
    "## Version 1"
   ]
  },
  {
   "cell_type": "code",
   "execution_count": null,
   "metadata": {},
   "outputs": [],
   "source": [
    "def dhash(image, hashSize=8):\n",
    "    # resize the input image, adding a single column (width) so we\n",
    "    # can compute the horizontal gradient\n",
    "    resized = cv2.resize(image, (hashSize + 1, hashSize))\n",
    "    \n",
    "    print(resized.shape)\n",
    "    # compute the (relative) horizontal gradient between adjacent\n",
    "    # column pixels\n",
    "    diff = resized[:, 1:] > resized[:, :-1]\n",
    "    \n",
    "    print(diff)\n",
    "    print(diff.shape)\n",
    "    # convert the difference image to a hash\n",
    "    print(diff.flatten())\n",
    "    return [int(n) for n in str(sum([2 ** i if v else 0 for (i, v) in enumerate(diff.flatten())]))]"
   ]
  },
  {
   "cell_type": "code",
   "execution_count": null,
   "metadata": {},
   "outputs": [],
   "source": [
    "print(\"[INFO] computing hashes for haystack...\")\n",
    "haystackPaths = list(paths.list_images(\"haystack\"))\n",
    "needlePaths = list(paths.list_images(\"needles\"))"
   ]
  },
  {
   "cell_type": "code",
   "execution_count": null,
   "metadata": {},
   "outputs": [],
   "source": [
    "test_path = haystackPaths[0]\n",
    "image = cv2.imread(test_path)\n",
    "\n",
    "image = cv2.cvtColor(image, cv2.COLOR_BGR2GRAY)\n",
    "print(image.shape)\n",
    "\n",
    "test_hash = dhash(image)\n",
    "# print(len(test_hash))\n",
    "print(test_hash)\n",
    "# imageHash = dhash(image)"
   ]
  },
  {
   "cell_type": "code",
   "execution_count": null,
   "metadata": {},
   "outputs": [],
   "source": [
    "BASE_PATHS = set([p.split(os.path.sep)[-2] for p in needlePaths])\n",
    "haystack = {}"
   ]
  },
  {
   "cell_type": "code",
   "execution_count": null,
   "metadata": {},
   "outputs": [],
   "source": [
    "from tqdm import tqdm\n",
    "\n",
    "start = time.time()\n",
    "# loop over the haystack paths\n",
    "for p in tqdm(haystackPaths):\n",
    "    # load the image from disk\n",
    "    image = cv2.imread(p)\n",
    "\n",
    "    # if the image is None then we could not load it from disk (so\n",
    "    # skip it)\n",
    "    if image is None:\n",
    "        continue\n",
    "\n",
    "    # convert the image to grayscale and compute the hash\n",
    "    image = cv2.cvtColor(image, cv2.COLOR_BGR2GRAY)\n",
    "    imageHash = dhash(image)\n",
    "\n",
    "    # update the haystack dictionary\n",
    "    haystack[p] = imageHash"
   ]
  },
  {
   "cell_type": "code",
   "execution_count": null,
   "metadata": {},
   "outputs": [],
   "source": [
    "haystack"
   ]
  },
  {
   "cell_type": "code",
   "execution_count": null,
   "metadata": {},
   "outputs": [],
   "source": [
    "print(\"[INFO] processed {} images in {:.2f} seconds\".format(\n",
    "    len(haystack), time.time() - start))\n",
    "print(\"[INFO] computing hashes for needles...\")"
   ]
  },
  {
   "cell_type": "code",
   "execution_count": null,
   "metadata": {},
   "outputs": [],
   "source": [
    "needleStack = {}"
   ]
  },
  {
   "cell_type": "code",
   "execution_count": null,
   "metadata": {},
   "outputs": [],
   "source": [
    "from tqdm import tqdm\n",
    "\n",
    "for p in tqdm(needlePaths):\n",
    "    # load the image from disk\n",
    "    image = cv2.imread(p)\n",
    "\n",
    "    # if the image is None then we could not load it from disk (so\n",
    "    # skip it)\n",
    "    if image is None:\n",
    "        continue\n",
    "\n",
    "    # convert the image to grayscale and compute the hash\n",
    "    image = cv2.cvtColor(image, cv2.COLOR_BGR2GRAY)\n",
    "    imageHash = dhash(image)\n",
    "\n",
    "    # grab all image paths that match the hash\n",
    "    needleStack[p] = imageHash"
   ]
  },
  {
   "cell_type": "code",
   "execution_count": null,
   "metadata": {},
   "outputs": [],
   "source": [
    "needleStack"
   ]
  },
  {
   "cell_type": "markdown",
   "metadata": {},
   "source": [
    "## Version 2"
   ]
  },
  {
   "cell_type": "code",
   "execution_count": null,
   "metadata": {},
   "outputs": [],
   "source": [
    "from scipy.spatial.distance import hamming\n",
    "from PIL import Image\n",
    "\n",
    "# img1 = needleStack[\"needles/defense/paris_defense_000526.jpg\"]\n",
    "# img2 = needleStack[\"needles/defense/paris_defense_000552.jpg\"]\n",
    "\n",
    "\n",
    "im_1 = cv2.imread(\"needles/general/paris_general_002654.jpg\")\n",
    "im_2 = cv2.imread(\"needles/eiffel/paris_eiffel_000284.jpg\")\n",
    "\n",
    "# print(hamming(img1, img2))\n",
    "hash_1 = [i for i in str(imagehash.phash(Image.open(\"needles/eiffel/paris_eiffel_000285.jpg\")))]\n",
    "hash_2 = [i for i in str(imagehash.phash(Image.open(\"needles/eiffel/paris_eiffel_000284.jpg\")))]\n",
    "print(hash_1)\n",
    "print(hash_2)\n",
    "# matchedPaths = haystack.get(imageHash, [])"
   ]
  },
  {
   "cell_type": "code",
   "execution_count": null,
   "metadata": {},
   "outputs": [],
   "source": [
    "import matplotlib.pyplot as plt\n",
    "\n",
    "plt.imshow(im_1)"
   ]
  },
  {
   "cell_type": "code",
   "execution_count": null,
   "metadata": {},
   "outputs": [],
   "source": [
    "plt.imshow(im_2)"
   ]
  },
  {
   "cell_type": "code",
   "execution_count": null,
   "metadata": {},
   "outputs": [],
   "source": [
    "hamming_distance(hash_1, hash_2)"
   ]
  },
  {
   "cell_type": "code",
   "execution_count": null,
   "metadata": {},
   "outputs": [],
   "source": [
    "1 - (hamming_distance(hash_1, hash_2) / 64.0)"
   ]
  },
  {
   "cell_type": "code",
   "execution_count": null,
   "metadata": {},
   "outputs": [],
   "source": [
    " \n",
    "i1 = Image.open(\"needles/general/paris_general_002654.jpg\")\n",
    "i2 = Image.open(\"needles/eiffel/paris_eiffel_000284.jpg\")\n",
    "\n",
    "i1 = i1.resize((250, 250))\n",
    "i2 = i2.resize((250, 250))\n",
    "assert i1.mode == i2.mode, \"Different kinds of images.\"\n",
    "assert i1.size == i2.size, \"Different sizes.\"\n",
    " \n",
    "pairs = zip(i1.getdata(), i2.getdata())\n",
    "if len(i1.getbands()) == 1:\n",
    "    # for gray-scale jpegs\n",
    "    dif = sum(abs(p1-p2) for p1,p2 in pairs)\n",
    "else:\n",
    "    dif = sum(abs(c1-c2) for p1,p2 in pairs for c1,c2 in zip(p1,p2))\n",
    " \n",
    "ncomponents = i1.size[0] * i1.size[1] * 3\n",
    "print(\"Similarity (percentage):\", 100 - (dif / 255.0 * 100) / ncomponents, \"%\")"
   ]
  },
  {
   "cell_type": "code",
   "execution_count": null,
   "metadata": {},
   "outputs": [],
   "source": [
    "plt.imshow(i2)"
   ]
  },
  {
   "cell_type": "code",
   "execution_count": null,
   "metadata": {},
   "outputs": [],
   "source": [
    "import image_slicer\n",
    "\n",
    "lis = image_slicer.slice(\"needles/general/paris_general_002654.jpg\", 6)"
   ]
  },
  {
   "cell_type": "code",
   "execution_count": null,
   "metadata": {},
   "outputs": [],
   "source": [
    "lis"
   ]
  },
  {
   "cell_type": "code",
   "execution_count": null,
   "metadata": {},
   "outputs": [],
   "source": [
    "# for i in lis:\n",
    "#     plt.imshow(i)\n",
    "\n",
    "from PIL import ImageDraw, ImageFont\n",
    "\n",
    "\n",
    "for tile in lis:\n",
    "    overlay = ImageDraw.Draw(tile.image)\n",
    "    overlay.text((5, 5), str(tile.number), (255, 255, 255),\n",
    "                 ImageFont.load_default())\n",
    "\n",
    "result = image_slicer.save_tiles(lis)"
   ]
  },
  {
   "cell_type": "code",
   "execution_count": null,
   "metadata": {},
   "outputs": [],
   "source": [
    "result"
   ]
  },
  {
   "cell_type": "code",
   "execution_count": null,
   "metadata": {},
   "outputs": [],
   "source": [
    "w=10\n",
    "h=10\n",
    "fig=plt.figure(figsize=(8, 8))\n",
    "\n",
    "for i in range(1, columns*rows +1):\n",
    "    img = np.random.randint(10, size=(h,w))\n",
    "    fig.add_subplot(rows, columns, i)\n",
    "    plt.imshow(img)\n",
    "plt.show()"
   ]
  },
  {
   "cell_type": "code",
   "execution_count": null,
   "metadata": {},
   "outputs": [],
   "source": [
    "fig=plt.figure(figsize=(8, 8))\n",
    "kk = []\n",
    "import numpy\n",
    "for image in result[0:]:\n",
    "    im = Image.open(image.filename)\n",
    "    kk.append(im)\n",
    "    plt.imshow(numpy.asarray(im))\n",
    "\n",
    "# plt.imshow(kk[-1])\n",
    "plt.show()"
   ]
  },
  {
   "cell_type": "markdown",
   "metadata": {},
   "source": [
    "## Version 3"
   ]
  },
  {
   "cell_type": "code",
   "execution_count": null,
   "metadata": {},
   "outputs": [],
   "source": [
    "# 1 - (phash_distance(phash1, phash2) / 64.0)\n",
    "\n",
    "# imagehash.ph\n",
    "# print((hash_1 - hash_2) / 64.0)\n",
    "\n",
    "def hamming_similarity(s1, s2):\n",
    "    \"\"\"Return the Hamming distance between equal-length sequences\"\"\"\n",
    "    if len(s1) != len(s2):\n",
    "        raise ValueError(\"Undefined for sequences of unequal length\")\n",
    "    return 1 - sum(el1 != el2 for el1, el2 in zip(s1, s2))/ len(s1)"
   ]
  },
  {
   "cell_type": "code",
   "execution_count": 2,
   "metadata": {},
   "outputs": [],
   "source": [
    "def crop(im_name, parts, size):\n",
    "    im = Image.open(im_name).resize(size).convert('LA')\n",
    "    imgwidth, imgheight = im.size\n",
    "    piece_size = int((imgheight * imgwidth // parts) ** 0.5)\n",
    "    images = []\n",
    "    for i in range(imgheight//piece_size + 1):\n",
    "        for j in range(imgwidth//piece_size):\n",
    "            box = (j*piece_size, i*piece_size, (j+1)*piece_size, (i+1)*piece_size)\n",
    "            images.append(im.crop(box))\n",
    "    return images"
   ]
  },
  {
   "cell_type": "code",
   "execution_count": null,
   "metadata": {},
   "outputs": [],
   "source": [
    "def pHash(image, hash_size=8, highfreq_factor=4):\n",
    "    \"\"\"\n",
    "    file_dir: Directory to the file.\n",
    "    hash_size: Size of hash.\n",
    "    returns: Hash of the image.\n",
    "    \"\"\" \n",
    "    return imagehash.phash(image, hash_size=hash_size, highfreq_factor=highfreq_factor)"
   ]
  },
  {
   "cell_type": "code",
   "execution_count": 61,
   "metadata": {},
   "outputs": [],
   "source": [
    "hash_functions = [lambda x: imagehash.phash(x, hash_size=4),\n",
    "                  lambda x: imagehash.phash(x, hash_size=8),\n",
    "                  lambda x: imagehash.phash(x, hash_size=16),\n",
    "                  lambda x: imagehash.dhash(x, hash_size=4),\n",
    "                  lambda x: imagehash.dhash(x, hash_size=8),\n",
    "                  lambda x: imagehash.dhash(x, hash_size=16),\n",
    "                  lambda x: imagehash.whash(x, hash_size=4),\n",
    "                  lambda x: imagehash.whash(x, hash_size=8),\n",
    "                  lambda x: imagehash.whash(x, hash_size=16),\n",
    "                  lambda x: imagehash.average_hash(x, hash_size=4),\n",
    "                  lambda x: imagehash.average_hash(x, hash_size=8),\n",
    "                  lambda x: imagehash.average_hash(x, hash_size=16)\n",
    "                 ]"
   ]
  },
  {
   "cell_type": "code",
   "execution_count": 34,
   "metadata": {},
   "outputs": [],
   "source": [
    "def get_image_hashes(image_path):\n",
    "    partitions = crop(image_path, 9, (256,256))\n",
    "    hashes = {i:[] for i in range(len(hash_functions))}\n",
    "    for partition in partitions:\n",
    "        for i in range(len(hash_functions)):\n",
    "            hashes[i].append(str(hash_functions[i](partition)))\n",
    "    return {i: min(hashes) for i, hashes in enumerate(hashes.values())}"
   ]
  },
  {
   "cell_type": "code",
   "execution_count": null,
   "metadata": {},
   "outputs": [],
   "source": [
    "def get_image_hashes_2(image_path, hash_size, partitions, size):\n",
    "    return [str(imagehash.dhash(partition, hash_size=hash_size)) for partition in crop(image_path, partitions, size)]"
   ]
  },
  {
   "cell_type": "code",
   "execution_count": 55,
   "metadata": {},
   "outputs": [],
   "source": [
    "photo1 = \"haystack/paris_louvre_000004.jpg\"\n",
    "# photo2 = \"needles/general/paris_general_002655.jpg\"\n",
    "photo2 = \"needles/eiffel/paris_eiffel_000285.jpg\""
   ]
  },
  {
   "cell_type": "code",
   "execution_count": 60,
   "metadata": {
    "scrolled": false
   },
   "outputs": [
    {
     "data": {
      "image/png": "[encoded data removed]",
      "text/plain": [
       "<PIL.Image.Image image mode=LA size=256x256 at 0x7FC1B7DED630>"
      ]
     },
     "execution_count": 60,
     "metadata": {},
     "output_type": "execute_result"
    }
   ],
   "source": [
    "Image.open(photo1).convert('LA').resize((256,256))"
   ]
  },
  {
   "cell_type": "code",
   "execution_count": null,
   "metadata": {
    "scrolled": true
   },
   "outputs": [],
   "source": [
    "Image.open(photo2).convert('LA')"
   ]
  },
  {
   "cell_type": "code",
   "execution_count": null,
   "metadata": {},
   "outputs": [],
   "source": [
    "import time\n",
    "start = time.time()\n",
    "img1 = get_image_hashes(photo1)\n",
    "time.time() - start"
   ]
  },
  {
   "cell_type": "code",
   "execution_count": null,
   "metadata": {},
   "outputs": [],
   "source": [
    "img2 = get_image_hashes(photo2)"
   ]
  },
  {
   "cell_type": "code",
   "execution_count": null,
   "metadata": {},
   "outputs": [],
   "source": [
    "def calc_similarity(hash1, hash2):\n",
    "    sum = 0\n",
    "    for i, j in zip(hash1.values(), hash2.values()):\n",
    "        a = hamming_similarity(i,j)\n",
    "        print(i, j)\n",
    "        print(a)\n",
    "        print()\n",
    "        sum += a\n",
    "    print(sum)\n",
    "    print(len(hash_functions))\n",
    "    return sum/len(hash_functions)"
   ]
  },
  {
   "cell_type": "code",
   "execution_count": null,
   "metadata": {},
   "outputs": [],
   "source": [
    "def calc_similarity_2(hash1, hash2):\n",
    "    sum = 0\n",
    "    for i, j in zip(hash1, hash2):\n",
    "        a = hamming_similarity(i,j)\n",
    "        print(i, j)\n",
    "        print(a)\n",
    "        print()\n",
    "        sum += a\n",
    "    print(sum)\n",
    "    print(len(hash1))\n",
    "    return sum/36"
   ]
  },
  {
   "cell_type": "code",
   "execution_count": null,
   "metadata": {
    "scrolled": true
   },
   "outputs": [],
   "source": [
    "calc_similarity(img1,img2)"
   ]
  },
  {
   "cell_type": "code",
   "execution_count": 48,
   "metadata": {},
   "outputs": [],
   "source": [
    "from tqdm import tqdm\n",
    "def get_all_hashes(dir_path):\n",
    "    all_hashes = {}\n",
    "    for subdir, dirs, files in os.walk(dir_path):\n",
    "        for file in tqdm(files):\n",
    "            all_hashes[os.path.join(subdir, file)] = get_image_hashes(os.path.join(subdir, file))\n",
    "    return all_hashes\n",
    "            \n"
   ]
  },
  {
   "cell_type": "code",
   "execution_count": 62,
   "metadata": {
    "scrolled": true
   },
   "outputs": [
    {
     "name": "stderr",
     "output_type": "stream",
     "text": [
      "100%|██████████| 5063/5063 [13:26<00:00,  6.28it/s]\n"
     ]
    }
   ],
   "source": [
    "all_hashes = get_all_hashes(\"oxbuild_images\")"
   ]
  },
  {
   "cell_type": "code",
   "execution_count": null,
   "metadata": {},
   "outputs": [],
   "source": [
    "all_hashes"
   ]
  },
  {
   "cell_type": "code",
   "execution_count": 63,
   "metadata": {},
   "outputs": [
    {
     "name": "stderr",
     "output_type": "stream",
     "text": [
      "100%|██████████| 5062/5062 [00:00<00:00, 5627.58it/s]"
     ]
    },
    {
     "name": "stdout",
     "output_type": "stream",
     "text": [
      "0.9019098281860352\n"
     ]
    },
    {
     "name": "stderr",
     "output_type": "stream",
     "text": [
      "\n"
     ]
    }
   ],
   "source": [
    "from scipy.spatial.distance import hamming\n",
    "start = time.time()\n",
    "hashes_to_all_photos = {}\n",
    "for image in tqdm(list(all_hashes.keys())[1:]):\n",
    "    sum = 0\n",
    "    for i, j in zip(all_hashes[list(all_hashes.keys())[0]].values(), all_hashes[image].values()):\n",
    "        sum += hamming(i, j)\n",
    "    hashes_to_all_photos[image] = sum\n",
    "        \n",
    "print(time.time() - start)"
   ]
  },
  {
   "cell_type": "code",
   "execution_count": null,
   "metadata": {},
   "outputs": [],
   "source": []
  }
 ],
 "metadata": {
  "kernelspec": {
   "display_name": "MLProject",
   "language": "python",
   "name": "mlproject"
  },
  "language_info": {
   "codemirror_mode": {
    "name": "ipython",
    "version": 3
   },
   "file_extension": ".py",
   "mimetype": "text/x-python",
   "name": "python",
   "nbconvert_exporter": "python",
   "pygments_lexer": "ipython3",
   "version": "3.5.2"
  }
 },
 "nbformat": 4,
 "nbformat_minor": 2
}
