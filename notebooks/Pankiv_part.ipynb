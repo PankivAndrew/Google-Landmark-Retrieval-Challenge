{
 "cells": [
  {
   "cell_type": "markdown",
   "metadata": {},
   "source": [
    "## Image Slicer"
   ]
  },
  {
   "cell_type": "code",
   "execution_count": 64,
   "metadata": {
    "scrolled": true
   },
   "outputs": [],
   "source": [
    "def crop(im_name, parts):\n",
    "    im = Image.open(im_name).resize((100,100))\n",
    "    imgwidth, imgheight = im.size\n",
    "    piece_size = int((imgheight * imgwidth // parts) ** 0.5)\n",
    "    images = []\n",
    "    for i in range(imgheight//piece_size + 1):\n",
    "        for j in range(imgwidth//piece_size):\n",
    "            box = (j*piece_size, i*piece_size, (j+1)*piece_size, (i+1)*piece_size)\n",
    "            images.append(im.crop(box))\n",
    "    return images\n",
    "            \n",
    "a = crop(\"needles/general/paris_general_002654.jpg\", 9)"
   ]
  },
  {
   "cell_type": "code",
   "execution_count": 67,
   "metadata": {},
   "outputs": [
    {
     "data": {
      "text/plain": [
       "(33, 33)"
      ]
     },
     "execution_count": 67,
     "metadata": {},
     "output_type": "execute_result"
    }
   ],
   "source": [
    "a[0].size"
   ]
  },
  {
   "cell_type": "code",
   "execution_count": 66,
   "metadata": {},
   "outputs": [
    {
     "data": {
      "image/png": "[encoded data removed]",
      "text/plain": [
       "<PIL.Image.Image image mode=RGB size=33x33 at 0x7FB797F81C18>"
      ]
     },
     "execution_count": 66,
     "metadata": {},
     "output_type": "execute_result"
    }
   ],
   "source": [
    "a[6]"
   ]
  },
  {
   "cell_type": "code",
   "execution_count": null,
   "metadata": {},
   "outputs": [],
   "source": []
  }
 ],
 "metadata": {
  "kernelspec": {
   "display_name": "MLProject",
   "language": "python",
   "name": "mlproject"
  },
  "language_info": {
   "codemirror_mode": {
    "name": "ipython",
    "version": 3
   },
   "file_extension": ".py",
   "mimetype": "text/x-python",
   "name": "python",
   "nbconvert_exporter": "python",
   "pygments_lexer": "ipython3",
   "version": "3.5.2"
  }
 },
 "nbformat": 4,
 "nbformat_minor": 2
}
