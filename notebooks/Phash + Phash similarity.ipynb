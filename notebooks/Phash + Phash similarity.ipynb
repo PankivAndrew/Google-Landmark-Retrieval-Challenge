{
 "cells": [
  {
   "cell_type": "markdown",
   "metadata": {},
   "source": [
    "## Phash"
   ]
  },
  {
   "cell_type": "code",
   "execution_count": 84,
   "metadata": {},
   "outputs": [],
   "source": [
    "import PIL\n",
    "import imagehash\n",
    "from scipy.spatial.distance import hamming"
   ]
  },
  {
   "cell_type": "code",
   "execution_count": 171,
   "metadata": {},
   "outputs": [],
   "source": [
    "def pHash(file_dir, hash_size=8, highfreq_factor=4):\n",
    "    \"\"\"\n",
    "    file_dir: Directory to the file.\n",
    "    hash_size: Size of hash.\n",
    "    returns: Hash of the image.\n",
    "    \"\"\"\n",
    "    image = PIL.Image.open(file_dir)\n",
    "    image = image.resize((25, 25))\n",
    "    hash = imagehash.phash(image, hash_size=hash_size, highfreq_factor=highfreq_factor)\n",
    "    return hash"
   ]
  },
  {
   "cell_type": "code",
   "execution_count": 125,
   "metadata": {},
   "outputs": [
    {
     "name": "stdout",
     "output_type": "stream",
     "text": [
      "b3a70c32634cf359\n"
     ]
    },
    {
     "data": {
      "text/plain": [
       "array([[ True, False,  True,  True, False, False,  True,  True],\n",
       "       [ True, False,  True, False, False,  True,  True,  True],\n",
       "       [False, False, False, False,  True,  True, False, False],\n",
       "       [False, False,  True,  True, False, False,  True, False],\n",
       "       [False,  True,  True, False, False, False,  True,  True],\n",
       "       [False,  True, False, False,  True,  True, False, False],\n",
       "       [ True,  True,  True,  True, False, False,  True,  True],\n",
       "       [False,  True, False,  True,  True, False, False,  True]])"
      ]
     },
     "execution_count": 125,
     "metadata": {},
     "output_type": "execute_result"
    }
   ],
   "source": [
    "print(pHash(\"needles/eiffel/paris_eiffel_000285.jpg\"))\n",
    "pHash(\"needles/eiffel/paris_eiffel_000285.jpg\")"
   ]
  },
  {
   "cell_type": "markdown",
   "metadata": {},
   "source": [
    "## Hash similarity"
   ]
  },
  {
   "cell_type": "code",
   "execution_count": 191,
   "metadata": {},
   "outputs": [],
   "source": [
    "def hash_distance(hash_1, hash_2):\n",
    "    print(hash_1)\n",
    "    print(hash_2)\n",
    "#     hamming_distance = hamming(hash_1, hash_2)\n",
    "#     print(hamming_distance)\n",
    "    hamming_distance_norm = hamming(hash_1, hash_2)\n",
    "#     hamming_distance / hash_len\n",
    "    print(hamming_distance_norm)\n",
    "    equality_percentage = hamming_distance_norm * 100 \n",
    "    return str(equality_percentage) + \" %\""
   ]
  },
  {
   "cell_type": "code",
   "execution_count": 135,
   "metadata": {},
   "outputs": [
    {
     "name": "stdout",
     "output_type": "stream",
     "text": [
      "e02f856da9b0c55d\n",
      "d31c09945b3bf46c\n",
      "1.0\n",
      "100.0 %\n"
     ]
    }
   ],
   "source": [
    "\n",
    "\n",
    "hash_1 = pHash(\"needles/notredame/paris_notredame_000892.jpg\")\n",
    "hash_2 = pHash(\"needles/notredame/paris_notredame_000895.jpg\")\n",
    "print(hash_similarity(hash_1, hash_2))"
   ]
  },
  {
   "cell_type": "code",
   "execution_count": 182,
   "metadata": {},
   "outputs": [],
   "source": [
    "test_1 = PIL.Image.open(\"test_images/Softserve.png\")\n",
    "test_1 = test_1.resize((100, 100))\n",
    "test_2 = PIL.Image.open(\"test_images/SoftServe_University.png\")\n",
    "test_2 = test_2.resize((100, 100))"
   ]
  },
  {
   "cell_type": "code",
   "execution_count": 183,
   "metadata": {},
   "outputs": [],
   "source": [
    "from matplotlib.pyplot import imshow\n",
    "import numpy as np\n",
    "%matplotlib inline"
   ]
  },
  {
   "cell_type": "code",
   "execution_count": 184,
   "metadata": {},
   "outputs": [
    {
     "data": {
      "text/plain": [
       "<matplotlib.image.AxesImage at 0x7f7bdea7aa20>"
      ]
     },
     "execution_count": 184,
     "metadata": {},
     "output_type": "execute_result"
    },
    {
     "data": {
      "image/png": "[encoded data removed]",
      "text/plain": [
       "<Figure size 432x288 with 1 Axes>"
      ]
     },
     "metadata": {},
     "output_type": "display_data"
    }
   ],
   "source": [
    "imshow(test_1)"
   ]
  },
  {
   "cell_type": "code",
   "execution_count": 185,
   "metadata": {},
   "outputs": [
    {
     "data": {
      "text/plain": [
       "<matplotlib.image.AxesImage at 0x7f7bdea33160>"
      ]
     },
     "execution_count": 185,
     "metadata": {},
     "output_type": "execute_result"
    },
    {
     "data": {
      "image/png": "[encoded data removed]",
      "text/plain": [
       "<Figure size 432x288 with 1 Axes>"
      ]
     },
     "metadata": {},
     "output_type": "display_data"
    }
   ],
   "source": [
    "imshow(test_2)"
   ]
  },
  {
   "cell_type": "code",
   "execution_count": 186,
   "metadata": {},
   "outputs": [
    {
     "name": "stdout",
     "output_type": "stream",
     "text": [
      "e3074411bac0efeb\n",
      "c1c53f3ab8b0e346\n"
     ]
    }
   ],
   "source": [
    "test_hash_1 = imagehash.phash(test_1)\n",
    "test_hash_2 = imagehash.phash(test_2)\n",
    "print(test_hash_1)\n",
    "print(test_hash_2)"
   ]
  },
  {
   "cell_type": "code",
   "execution_count": 193,
   "metadata": {},
   "outputs": [
    {
     "name": "stdout",
     "output_type": "stream",
     "text": [
      "e3074411bac0efeb\n",
      "c1c53f3ab8b0e346\n",
      "1.0\n"
     ]
    },
    {
     "data": {
      "text/plain": [
       "'100.0 %'"
      ]
     },
     "execution_count": 193,
     "metadata": {},
     "output_type": "execute_result"
    }
   ],
   "source": [
    "hash_distance(test_hash_1, test_hash_2)"
   ]
  },
  {
   "cell_type": "code",
   "execution_count": null,
   "metadata": {},
   "outputs": [],
   "source": []
  },
  {
   "cell_type": "code",
   "execution_count": null,
   "metadata": {},
   "outputs": [],
   "source": []
  }
 ],
 "metadata": {
  "kernelspec": {
   "display_name": "MLProject",
   "language": "python",
   "name": "mlproject"
  },
  "language_info": {
   "codemirror_mode": {
    "name": "ipython",
    "version": 3
   },
   "file_extension": ".py",
   "mimetype": "text/x-python",
   "name": "python",
   "nbconvert_exporter": "python",
   "pygments_lexer": "ipython3",
   "version": "3.5.2"
  }
 },
 "nbformat": 4,
 "nbformat_minor": 2
}
